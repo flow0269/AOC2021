{
 "cells": [
  {
   "cell_type": "code",
   "execution_count": 1,
   "metadata": {},
   "outputs": [],
   "source": [
    "from aocd.models import Puzzle\n",
    "puzzle = Puzzle(2021, 4)\n",
    "\n",
    "input_ = puzzle.input_data.splitlines()"
   ]
  },
  {
   "cell_type": "code",
   "execution_count": 2,
   "metadata": {},
   "outputs": [],
   "source": [
    "#initials\n",
    "\n",
    "bingo_numbers = input_[0].split(',')\n",
    "\n",
    "grid_size=5\n",
    "\n",
    "ids = list(range(2,len(input_)-grid_size+1,6))\n",
    "all_ids = [x + y for x in ids for y in range(0,5)]\n",
    "\n",
    "rows = [input_[x] for x in all_ids]\n",
    "list_indexes = list(range(0,grid_size*3,3))\n",
    "\n",
    "flat_grid_numbers = [int(x[y:y+2]) for x in rows for y in list_indexes]\n",
    "\n",
    "grid_length = grid_size**2\n",
    "n_grids = len(flat_grid_numbers)//grid_length\n",
    "\n",
    "bingo_grid_indexes = [list(range(x*grid_length,(x+1)*grid_length)) for x in range(n_grids)]"
   ]
  },
  {
   "cell_type": "code",
   "execution_count": 3,
   "metadata": {},
   "outputs": [],
   "source": [
    "#part1 functions\n",
    "\n",
    "\n",
    "def find_bingo(all_found,grid_size,grid_length,bingo_grids):\n",
    "    found_bingo=False\n",
    "    bingo_type=''\n",
    "    bingo_id = -1\n",
    "    found_grid_id = 0\n",
    "    marked_elements=[]\n",
    "\n",
    "    #traversed through the grids looking at just their marked elements\n",
    "    #intersecting the list of all matched indexes with the individual grid indexes\n",
    "    for grid_num,grid_ids in enumerate([list(set(all_found).intersection(bingo_grids[x])) for x in range(n_grids)]):\n",
    "\n",
    "        if len(grid_ids)<5: #if at least five elements are not matched, there can be no bingo\n",
    "            found_bingo=False\n",
    "        else:\n",
    "            grid_ids = [x - grid_num*grid_length for x in grid_ids] #this normalizes the matched ids\n",
    "            \n",
    "            #this list comprehension computes the number of matched elements in each row\n",
    "            row_bingo_nums = [len([x for x in grid_ids if (x < (grid_size*y)) and (x>=(grid_size*(y-1)))]) for y in range(1,grid_size+1)]\n",
    "            bingo_rows = [x for x,num_ids in enumerate(row_bingo_nums) if num_ids==grid_size]\n",
    "            if len(bingo_rows)>0:\n",
    "                found_bingo=True\n",
    "                found_grid_id = grid_num\n",
    "                marked_elements = grid_ids\n",
    "                print('row_found')\n",
    "                break\n",
    "\n",
    "            #this list comprehension computes the number of matched elements in each column by using the mod function\n",
    "            column_bingo_nums = [len([x for x in [z % grid_size for z in grid_ids] if x == y]) for y in range(grid_size)]\n",
    "            bingo_cols = [x for x,num_ids in enumerate(column_bingo_nums) if num_ids==grid_size]\n",
    "            if len(bingo_cols)>0:\n",
    "                found_bingo=True\n",
    "                found_grid_id = grid_num\n",
    "                marked_elements = grid_ids\n",
    "                print('column found',bingo_id)\n",
    "                break\n",
    "            if found_bingo:\n",
    "                break\n",
    "\n",
    "    return found_bingo,found_grid_id,marked_elements\n",
    "            \n",
    "            "
   ]
  },
  {
   "cell_type": "code",
   "execution_count": 4,
   "metadata": {},
   "outputs": [
    {
     "name": "stdout",
     "output_type": "stream",
     "text": [
      "row_found\n",
      "found_bingo 28\n"
     ]
    }
   ],
   "source": [
    "#part1\n",
    "\n",
    "all_found=[]\n",
    "for x in bingo_numbers:\n",
    "    found_indexes = [i for i,y in enumerate(flat_grid_numbers) if y==int(x)]\n",
    "    all_found.extend(found_indexes)\n",
    "    \n",
    "    bingo_found,grid_id,found_in_grids = find_bingo(all_found,grid_size,grid_length,bingo_grid_indexes)\n",
    "    if bingo_found:\n",
    "        print('found_bingo',x)\n",
    "        break"
   ]
  },
  {
   "cell_type": "code",
   "execution_count": 5,
   "metadata": {},
   "outputs": [
    {
     "data": {
      "text/plain": [
       "22680"
      ]
     },
     "execution_count": 5,
     "metadata": {},
     "output_type": "execute_result"
    }
   ],
   "source": [
    "bingo_grid = flat_grid_numbers[bingo_grid_indexes[grid_id][0]:][:25]\n",
    "\n",
    "for z in found_in_grids[::-1]:\n",
    "    bingo_grid.pop(z)\n",
    "\n",
    "sum(bingo_grid)*int(x)   "
   ]
  },
  {
   "cell_type": "code",
   "execution_count": 6,
   "metadata": {},
   "outputs": [],
   "source": [
    "#part2 function\n",
    "\n",
    "def find_nonbingo(all_found,grid_size,grid_length,bingo_grids,all_grid_indexes):\n",
    "    found_bingo=False\n",
    "    found_grid_id = 0\n",
    "    last_won=False\n",
    "    marked_elements=[]\n",
    "\n",
    "    #traversed through the grids looking at just their marked elements\n",
    "    #intersecting the list of all matched indexes with the individual grid indexes\n",
    "    for grid_num,grid_ids in enumerate([list(set(all_found).intersection(bingo_grids[x])) for x in range(n_grids)]):\n",
    "\n",
    "        if len(grid_ids)<5: #if at least five elements are not matched, there can be no bingo\n",
    "            found_bingo=False\n",
    "        else:\n",
    "            grid_ids = [x - grid_num*grid_length for x in grid_ids] #this normalizes the matched ids\n",
    "            \n",
    "            #this list comprehension computes the number of matched elements in each row\n",
    "            row_bingo_nums = [len([x for x in grid_ids if (x < (grid_size*y)) and (x>=(grid_size*(y-1)))]) for y in range(1,grid_size+1)]\n",
    "            bingo_rows = [x for x,num_ids in enumerate(row_bingo_nums) if num_ids==grid_size]\n",
    "            if len(bingo_rows)>0:    \n",
    "                found_bingo=True\n",
    "                found_grid_id = grid_num\n",
    "\n",
    "                try:\n",
    "                    all_grid_indexes.remove(grid_num)\n",
    "                except:\n",
    "                    pass\n",
    "\n",
    "\n",
    "            #this list comprehension computes the number of matched elements in each column by using the mod function\n",
    "            column_bingo_nums = [len([x for x in [z % grid_size for z in grid_ids] if x == y]) for y in range(grid_size)]\n",
    "            bingo_cols = [x for x,num_ids in enumerate(column_bingo_nums) if num_ids==grid_size]\n",
    "            if len(bingo_cols)>0:\n",
    "                found_bingo=True\n",
    "                found_grid_id = grid_num\n",
    "\n",
    "                try:\n",
    "                    all_grid_indexes.remove(grid_num)\n",
    "                except:\n",
    "                    pass\n",
    "\n",
    "            \n",
    "            if len(all_grid_indexes)==0:\n",
    "                last_won = True\n",
    "                marked_elements = grid_ids\n",
    "                break\n",
    "\n",
    "\n",
    "    return found_bingo,found_grid_id,marked_elements,all_grid_indexes,last_won"
   ]
  },
  {
   "cell_type": "code",
   "execution_count": 7,
   "metadata": {},
   "outputs": [],
   "source": [
    "#part2\n",
    "\n",
    "all_grid_indexes = list(range(n_grids))\n",
    "\n",
    "all_found=[]\n",
    "for x in bingo_numbers:\n",
    "    found_indexes = [i for i,y in enumerate(flat_grid_numbers) if y==int(x)]\n",
    "    all_found.extend(found_indexes)\n",
    "    \n",
    "    bingo_found,grid_id,found_in_grids,all_grid_indexes,last_won = find_nonbingo(all_found,grid_size,grid_length,bingo_grid_indexes,all_grid_indexes)\n",
    "    if len(all_grid_indexes)==1:\n",
    "        last_grid = all_grid_indexes[0]\n",
    "        \n",
    "    if last_won:\n",
    "        break"
   ]
  },
  {
   "cell_type": "code",
   "execution_count": 8,
   "metadata": {},
   "outputs": [
    {
     "data": {
      "text/plain": [
       "16168"
      ]
     },
     "execution_count": 8,
     "metadata": {},
     "output_type": "execute_result"
    }
   ],
   "source": [
    "bingo_grid = flat_grid_numbers[bingo_grid_indexes[last_grid][0]:][:25]\n",
    "for z in found_in_grids[::-1]:\n",
    "    bingo_grid.pop(z)\n",
    "\n",
    "sum(bingo_grid)*int(x)  "
   ]
  },
  {
   "cell_type": "code",
   "execution_count": 9,
   "metadata": {},
   "outputs": [],
   "source": [
    "a = [0]*10"
   ]
  },
  {
   "cell_type": "code",
   "execution_count": 12,
   "metadata": {},
   "outputs": [
    {
     "data": {
      "text/plain": [
       "[0, 0, 0, 0, 0, 0, 0, 0, 0, 0]"
      ]
     },
     "execution_count": 12,
     "metadata": {},
     "output_type": "execute_result"
    }
   ],
   "source": [
    "a"
   ]
  },
  {
   "cell_type": "code",
   "execution_count": 20,
   "metadata": {},
   "outputs": [],
   "source": [
    "b = [a.copy()]*10"
   ]
  },
  {
   "cell_type": "code",
   "execution_count": 21,
   "metadata": {},
   "outputs": [
    {
     "data": {
      "text/plain": [
       "1"
      ]
     },
     "execution_count": 21,
     "metadata": {},
     "output_type": "execute_result"
    }
   ],
   "source": [
    "b[0][0]"
   ]
  },
  {
   "cell_type": "code",
   "execution_count": 22,
   "metadata": {},
   "outputs": [],
   "source": [
    "b[0][0]=1"
   ]
  },
  {
   "cell_type": "code",
   "execution_count": 23,
   "metadata": {},
   "outputs": [
    {
     "data": {
      "text/plain": [
       "[[1, 0, 0, 0, 0, 0, 0, 0, 0, 0],\n",
       " [1, 0, 0, 0, 0, 0, 0, 0, 0, 0],\n",
       " [1, 0, 0, 0, 0, 0, 0, 0, 0, 0],\n",
       " [1, 0, 0, 0, 0, 0, 0, 0, 0, 0],\n",
       " [1, 0, 0, 0, 0, 0, 0, 0, 0, 0],\n",
       " [1, 0, 0, 0, 0, 0, 0, 0, 0, 0],\n",
       " [1, 0, 0, 0, 0, 0, 0, 0, 0, 0],\n",
       " [1, 0, 0, 0, 0, 0, 0, 0, 0, 0],\n",
       " [1, 0, 0, 0, 0, 0, 0, 0, 0, 0],\n",
       " [1, 0, 0, 0, 0, 0, 0, 0, 0, 0]]"
      ]
     },
     "execution_count": 23,
     "metadata": {},
     "output_type": "execute_result"
    }
   ],
   "source": [
    "b"
   ]
  },
  {
   "cell_type": "code",
   "execution_count": 29,
   "metadata": {},
   "outputs": [],
   "source": [
    "b = [[0 for i in range(5)] for x in range(5)]"
   ]
  },
  {
   "cell_type": "code",
   "execution_count": 30,
   "metadata": {},
   "outputs": [
    {
     "data": {
      "text/plain": [
       "[[0, 0, 0, 0, 0],\n",
       " [0, 0, 0, 0, 0],\n",
       " [0, 0, 0, 0, 0],\n",
       " [0, 0, 0, 0, 0],\n",
       " [0, 0, 0, 0, 0]]"
      ]
     },
     "execution_count": 30,
     "metadata": {},
     "output_type": "execute_result"
    }
   ],
   "source": [
    "b"
   ]
  },
  {
   "cell_type": "code",
   "execution_count": 32,
   "metadata": {},
   "outputs": [
    {
     "ename": "AttributeError",
     "evalue": "'list' object has no attribute 'deepcopy'",
     "output_type": "error",
     "traceback": [
      "\u001b[1;31m---------------------------------------------------------------------------\u001b[0m",
      "\u001b[1;31mAttributeError\u001b[0m                            Traceback (most recent call last)",
      "\u001b[1;32m<ipython-input-32-2b5db5e6722c>\u001b[0m in \u001b[0;36m<module>\u001b[1;34m\u001b[0m\n\u001b[1;32m----> 1\u001b[1;33m \u001b[0mc\u001b[0m \u001b[1;33m=\u001b[0m \u001b[0mb\u001b[0m\u001b[1;33m.\u001b[0m\u001b[0mdeepcopy\u001b[0m\u001b[1;33m(\u001b[0m\u001b[1;33m)\u001b[0m\u001b[1;33m\u001b[0m\u001b[1;33m\u001b[0m\u001b[0m\n\u001b[0m",
      "\u001b[1;31mAttributeError\u001b[0m: 'list' object has no attribute 'deepcopy'"
     ]
    }
   ],
   "source": [
    "c = b.deepcopy()"
   ]
  },
  {
   "cell_type": "code",
   "execution_count": null,
   "metadata": {},
   "outputs": [],
   "source": []
  }
 ],
 "metadata": {
  "kernelspec": {
   "display_name": "Python 3",
   "language": "python",
   "name": "python3"
  },
  "language_info": {
   "codemirror_mode": {
    "name": "ipython",
    "version": 3
   },
   "file_extension": ".py",
   "mimetype": "text/x-python",
   "name": "python",
   "nbconvert_exporter": "python",
   "pygments_lexer": "ipython3",
   "version": "3.7.4"
  }
 },
 "nbformat": 4,
 "nbformat_minor": 2
}
