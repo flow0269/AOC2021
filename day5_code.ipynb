{
 "cells": [
  {
   "cell_type": "code",
   "execution_count": 1,
   "metadata": {},
   "outputs": [],
   "source": [
    "from aocd.models import Puzzle\n",
    "puzzle = Puzzle(2021, 5)"
   ]
  },
  {
   "cell_type": "code",
   "execution_count": 2,
   "metadata": {},
   "outputs": [],
   "source": [
    "input_ = puzzle.input_data.splitlines()"
   ]
  },
  {
   "cell_type": "code",
   "execution_count": 3,
   "metadata": {},
   "outputs": [],
   "source": [
    "coord_arrays = [[x.split(',') for x in y.split(' -> ')] for y in input_]"
   ]
  },
  {
   "cell_type": "code",
   "execution_count": 4,
   "metadata": {},
   "outputs": [],
   "source": [
    "def init_grid(coord_arrays):\n",
    "    x1_coords = [int(coord_arrays[z][0][0]) for z in range(len(input_))]\n",
    "    x2_coords = [int(coord_arrays[z][1][0]) for z in range(len(input_))]\n",
    "    y1_coords = [int(coord_arrays[z][0][1]) for z in range(len(input_))]\n",
    "    y2_coords = [int(coord_arrays[z][1][1]) for z in range(len(input_))]\n",
    "    y_span = max(max(y1_coords),max(y2_coords))+1\n",
    "    x_span =max(max(x1_coords),max(x2_coords))+1\n",
    "    grid_ = [[0]*x_span for y in range(y_span)]\n",
    "    \n",
    "    return x1_coords,x2_coords,y1_coords,y2_coords,y_span,x_span,grid_"
   ]
  },
  {
   "cell_type": "code",
   "execution_count": 5,
   "metadata": {},
   "outputs": [],
   "source": [
    "def draw_line(coords,grid_):\n",
    "    if coords[0]==coords[1]:\n",
    "        for y_coord in range(min(coords[2],coords[3]),max(coords[2],coords[3])+1):\n",
    "            grid_[y_coord][coords[0]]+=1\n",
    "    elif coords[2]==coords[3]:\n",
    "        for x_coord in range(min(coords[0],coords[1]),max(coords[0],coords[1])+1):\n",
    "            grid_[coords[2]][x_coord]+=1\n",
    "    else:\n",
    "        for x_,y_ in list(zip(range_(coords[0],coords[1]),range_(coords[2],coords[3]))):\n",
    "            grid_[y_][x_]+=1\n",
    "    return grid_\n",
    "\n",
    "def range_(x1,x2):\n",
    "    if x1>x2:\n",
    "        return list(range(x1,x2-1,-1))\n",
    "    else:\n",
    "        return list(range(x1,x2+1))"
   ]
  },
  {
   "cell_type": "code",
   "execution_count": 6,
   "metadata": {},
   "outputs": [
    {
     "name": "stdout",
     "output_type": "stream",
     "text": [
      "6267\n"
     ]
    }
   ],
   "source": [
    "#part1\n",
    "\n",
    "x1_coords,x2_coords,y1_coords,y2_coords,y_span,x_span,grid_ = init_grid(coord_arrays)\n",
    "\n",
    "zip_coords = [x for x in list(zip(x1_coords,x2_coords,y1_coords,y2_coords)) if (x[0]==x[1]) | (x[2]==x[3])]\n",
    "\n",
    "for coord in zip_coords:\n",
    "    grid_ = draw_line(coord,grid_)\n",
    "    \n",
    "count_=0\n",
    "for x in range(x_span):\n",
    "    for y in range(y_span):\n",
    "        if grid_[y][x]>=2:\n",
    "            count_+=1\n",
    "print(count_)"
   ]
  },
  {
   "cell_type": "code",
   "execution_count": 7,
   "metadata": {},
   "outputs": [],
   "source": [
    "#part2\n",
    "\n",
    "x1_coords,x2_coords,y1_coords,y2_coords,y_span,x_span,grid_ = init_grid(coord_arrays)\n",
    "\n",
    "zip_coords = [x for x in list(zip(x1_coords,x2_coords,y1_coords,y2_coords))]\n",
    "\n",
    "for coord in zip_coords:\n",
    "    grid_ = draw_line(coord,grid_)\n",
    "    \n"
   ]
  },
  {
   "cell_type": "code",
   "execution_count": 8,
   "metadata": {},
   "outputs": [
    {
     "name": "stdout",
     "output_type": "stream",
     "text": [
      "20196\n"
     ]
    }
   ],
   "source": [
    "count_=0\n",
    "for x in range(x_span):\n",
    "    for y in range(y_span):\n",
    "        if grid_[y][x]>=2:\n",
    "            count_+=1\n",
    "print(count_)"
   ]
  },
  {
   "cell_type": "code",
   "execution_count": null,
   "metadata": {},
   "outputs": [],
   "source": []
  }
 ],
 "metadata": {
  "kernelspec": {
   "display_name": "Python 3",
   "language": "python",
   "name": "python3"
  },
  "language_info": {
   "codemirror_mode": {
    "name": "ipython",
    "version": 3
   },
   "file_extension": ".py",
   "mimetype": "text/x-python",
   "name": "python",
   "nbconvert_exporter": "python",
   "pygments_lexer": "ipython3",
   "version": "3.7.4"
  }
 },
 "nbformat": 4,
 "nbformat_minor": 2
}
