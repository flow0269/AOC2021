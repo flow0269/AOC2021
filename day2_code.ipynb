{
 "cells": [
  {
   "cell_type": "code",
   "execution_count": 1,
   "metadata": {},
   "outputs": [],
   "source": [
    "from aocd.models import Puzzle\n",
    "puzzle = Puzzle(2021, 2)"
   ]
  },
  {
   "cell_type": "code",
   "execution_count": 4,
   "metadata": {},
   "outputs": [],
   "source": [
    "input_ = puzzle.input_data.splitlines()\n",
    "\n",
    "quants = [int(i[i.index(' ')+1:]) for i in input_]\n",
    "directs = [i[:i.index(' ')] for i in input_]"
   ]
  },
  {
   "cell_type": "code",
   "execution_count": 7,
   "metadata": {},
   "outputs": [
    {
     "name": "stdout",
     "output_type": "stream",
     "text": [
      "1855814\n"
     ]
    }
   ],
   "source": [
    "#part1\n",
    "\n",
    "up_list = [x for x,y in zip(quants,directs) if y=='up']\n",
    "down_list = [x for x,y in zip(quants,directs) if y=='down']\n",
    "forward_list = [x for x,y in zip(quants,directs) if y=='forward']\n",
    "\n",
    "print((sum(down_list)-sum(up_list))*sum(forward_list))"
   ]
  },
  {
   "cell_type": "code",
   "execution_count": 9,
   "metadata": {},
   "outputs": [
    {
     "name": "stdout",
     "output_type": "stream",
     "text": [
      "1845455714\n"
     ]
    }
   ],
   "source": [
    "#part 2\n",
    "\n",
    "aim=0\n",
    "x = 0\n",
    "y = 0\n",
    "for index_ in range(len(quants)):\n",
    "    if (directs[index_]=='down'):\n",
    "        aim += quants[index_]\n",
    "    elif (directs[index_]=='up'):\n",
    "        aim -= quants[index_]\n",
    "    else:\n",
    "        x+=quants[index_]\n",
    "        y+=quants[index_]*aim\n",
    "        \n",
    "print(x*y)"
   ]
  },
  {
   "cell_type": "code",
   "execution_count": null,
   "metadata": {},
   "outputs": [],
   "source": []
  }
 ],
 "metadata": {
  "kernelspec": {
   "display_name": "Python 3",
   "language": "python",
   "name": "python3"
  },
  "language_info": {
   "codemirror_mode": {
    "name": "ipython",
    "version": 3
   },
   "file_extension": ".py",
   "mimetype": "text/x-python",
   "name": "python",
   "nbconvert_exporter": "python",
   "pygments_lexer": "ipython3",
   "version": "3.8.5"
  }
 },
 "nbformat": 4,
 "nbformat_minor": 2
}
