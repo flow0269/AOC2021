{
 "cells": [
  {
   "cell_type": "code",
   "execution_count": 3,
   "metadata": {},
   "outputs": [],
   "source": [
    "from aocd.models import Puzzle\n",
    "puzzle = Puzzle(2021, 6)"
   ]
  },
  {
   "cell_type": "code",
   "execution_count": 9,
   "metadata": {},
   "outputs": [],
   "source": [
    "input_ = puzzle.input_data.split(',')"
   ]
  },
  {
   "cell_type": "code",
   "execution_count": 77,
   "metadata": {},
   "outputs": [],
   "source": [
    "initial_ = [int(z) for z in input_]\n"
   ]
  },
  {
   "cell_type": "code",
   "execution_count": 74,
   "metadata": {},
   "outputs": [],
   "source": [
    "initial_counts = [len([x for x in initial_ if x==z]) for z in range(9)]"
   ]
  },
  {
   "cell_type": "code",
   "execution_count": 75,
   "metadata": {},
   "outputs": [],
   "source": [
    "def next_day(counts_):\n",
    "    count_zero = counts_[0]\n",
    "    counts_ = counts_[1:]\n",
    "    counts_.append(count_zero)\n",
    "    counts_[6]+=count_zero\n",
    "    return counts_"
   ]
  },
  {
   "cell_type": "code",
   "execution_count": 76,
   "metadata": {},
   "outputs": [
    {
     "name": "stdout",
     "output_type": "stream",
     "text": [
      "343441\n"
     ]
    }
   ],
   "source": [
    "#part1\n",
    "counts_=initial_counts.copy()\n",
    "\n",
    "for x in range(80):\n",
    "    counts_ = next_day(counts_)\n",
    "    \n",
    "print(sum(counts_))"
   ]
  },
  {
   "cell_type": "code",
   "execution_count": 78,
   "metadata": {},
   "outputs": [
    {
     "name": "stdout",
     "output_type": "stream",
     "text": [
      "1569108373832\n"
     ]
    }
   ],
   "source": [
    "#part2\n",
    "counts_=initial_counts.copy()\n",
    "\n",
    "for x in range(256):\n",
    "    counts_ = next_day(counts_)\n",
    "    \n",
    "print(sum(counts_))"
   ]
  }
 ],
 "metadata": {
  "kernelspec": {
   "display_name": "Python 3",
   "language": "python",
   "name": "python3"
  },
  "language_info": {
   "codemirror_mode": {
    "name": "ipython",
    "version": 3
   },
   "file_extension": ".py",
   "mimetype": "text/x-python",
   "name": "python",
   "nbconvert_exporter": "python",
   "pygments_lexer": "ipython3",
   "version": "3.7.4"
  }
 },
 "nbformat": 4,
 "nbformat_minor": 2
}
