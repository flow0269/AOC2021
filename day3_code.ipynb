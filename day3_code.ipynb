{
 "cells": [
  {
   "cell_type": "code",
   "execution_count": 1,
   "metadata": {},
   "outputs": [],
   "source": [
    "from aocd.models import Puzzle\n",
    "puzzle = Puzzle(2021, 3)"
   ]
  },
  {
   "cell_type": "code",
   "execution_count": 2,
   "metadata": {},
   "outputs": [],
   "source": [
    "input_ = puzzle.input_data.splitlines()"
   ]
  },
  {
   "cell_type": "code",
   "execution_count": 3,
   "metadata": {},
   "outputs": [],
   "source": [
    "mode_bits = [round(sum([float(i[z]) for i in input_])/len(input_)) for z in range(len(input_[0]))]"
   ]
  },
  {
   "cell_type": "code",
   "execution_count": 4,
   "metadata": {},
   "outputs": [
    {
     "name": "stdout",
     "output_type": "stream",
     "text": [
      "6200868\n"
     ]
    }
   ],
   "source": [
    "#part1\n",
    "\n",
    "gamma_bit = ''.join(list(map(str,mode_bits)))\n",
    "gamma = int(gamma_bit,2)\n",
    "epsilon = gamma ^ (2 ** (len(gamma_bit)+1)-1)\n",
    "\n",
    "print(gamma*epsilon)"
   ]
  },
  {
   "cell_type": "code",
   "execution_count": 5,
   "metadata": {},
   "outputs": [
    {
     "data": {
      "text/plain": [
       "0"
      ]
     },
     "execution_count": 5,
     "metadata": {},
     "output_type": "execute_result"
    }
   ],
   "source": [
    "#python uses bankers rounding!\n",
    "round(0.5)"
   ]
  },
  {
   "cell_type": "code",
   "execution_count": 6,
   "metadata": {},
   "outputs": [],
   "source": [
    "def filter_report(report,z,type_='O2'):\n",
    "    mode_bits = [sum([float(i[z]) for i in report])/len(report) for z in range(len(report[0]))]\n",
    "    mode_bits = [1 if x == 0.5 else round(x) for x in mode_bits]\n",
    "    if type_=='O2':\n",
    "        report = [i for i in report if i[z] == str(mode_bits[z])]\n",
    "    else:\n",
    "        report = [i for i in report if i[z] != str(mode_bits[z])]\n",
    "    return report"
   ]
  },
  {
   "cell_type": "code",
   "execution_count": 7,
   "metadata": {},
   "outputs": [
    {
     "name": "stdout",
     "output_type": "stream",
     "text": [
      "o2 report ['011110111101']\n",
      "co2 report ['110100101011']\n"
     ]
    }
   ],
   "source": [
    "\n",
    "o2_report = input_.copy()\n",
    "z=0\n",
    "while len(o2_report)>1:\n",
    "    o2_report = filter_report(o2_report,z,'O2')\n",
    "    z+=1\n",
    "    \n",
    "print('o2 report',o2_report)\n",
    "\n",
    "co2_report = input_.copy()\n",
    "z=0\n",
    "while len(co2_report)>1:\n",
    "    co2_report = filter_report(co2_report,z,'CO2')\n",
    "    z+=1\n",
    "    \n",
    "print('co2 report', co2_report)"
   ]
  },
  {
   "cell_type": "code",
   "execution_count": 8,
   "metadata": {},
   "outputs": [
    {
     "data": {
      "text/plain": [
       "1981"
      ]
     },
     "execution_count": 8,
     "metadata": {},
     "output_type": "execute_result"
    }
   ],
   "source": [
    "o2_bit = ''.join(list(map(str,o2_report)))\n",
    "o2_rating = int(o2_bit,2)\n",
    "o2_rating"
   ]
  },
  {
   "cell_type": "code",
   "execution_count": 9,
   "metadata": {},
   "outputs": [
    {
     "data": {
      "text/plain": [
       "3371"
      ]
     },
     "execution_count": 9,
     "metadata": {},
     "output_type": "execute_result"
    }
   ],
   "source": [
    "co2_bit = ''.join(list(map(str,co2_report)))\n",
    "co2_rating = int(co2_bit,2)\n",
    "co2_rating"
   ]
  },
  {
   "cell_type": "code",
   "execution_count": 10,
   "metadata": {},
   "outputs": [
    {
     "data": {
      "text/plain": [
       "6677951"
      ]
     },
     "execution_count": 10,
     "metadata": {},
     "output_type": "execute_result"
    }
   ],
   "source": [
    "o2_rating*co2_rating"
   ]
  },
  {
   "cell_type": "code",
   "execution_count": null,
   "metadata": {},
   "outputs": [],
   "source": []
  }
 ],
 "metadata": {
  "kernelspec": {
   "display_name": "Python 3",
   "language": "python",
   "name": "python3"
  },
  "language_info": {
   "codemirror_mode": {
    "name": "ipython",
    "version": 3
   },
   "file_extension": ".py",
   "mimetype": "text/x-python",
   "name": "python",
   "nbconvert_exporter": "python",
   "pygments_lexer": "ipython3",
   "version": "3.7.4"
  }
 },
 "nbformat": 4,
 "nbformat_minor": 4
}
