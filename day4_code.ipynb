{
 "cells": [
  {
   "cell_type": "code",
   "execution_count": 1,
   "metadata": {},
   "outputs": [],
   "source": [
    "from aocd.models import Puzzle\n",
    "puzzle = Puzzle(2021, 4)\n",
    "\n",
    "input_ = puzzle.input_data.splitlines()"
   ]
  },
  {
   "cell_type": "code",
   "execution_count": 2,
   "metadata": {},
   "outputs": [],
   "source": [
    "#initials\n",
    "\n",
    "bingo_numbers = input_[0].split(',')\n",
    "\n",
    "grid_size=5\n",
    "\n",
    "ids = list(range(2,len(input_)-grid_size+1,6))\n",
    "all_ids = [x + y for x in ids for y in range(0,5)]\n",
    "\n",
    "rows = [input_[x] for x in all_ids]\n",
    "list_indexes = list(range(0,grid_size*3,3))\n",
    "\n",
    "flat_grid_numbers = [int(x[y:y+2]) for x in rows for y in list_indexes]\n",
    "\n",
    "grid_length = grid_size**2\n",
    "n_grids = len(flat_grid_numbers)//grid_length\n",
    "\n",
    "bingo_grid_indexes = [list(range(x*grid_length,(x+1)*grid_length)) for x in range(n_grids)]"
   ]
  },
  {
   "cell_type": "code",
   "execution_count": 15,
   "metadata": {},
   "outputs": [],
   "source": [
    "#part1 functions\n",
    "\n",
    "def find_number_indexes(grid_numbers,bingo_number):\n",
    "    found_index=0\n",
    "    found = True\n",
    "    found_indexes=[]\n",
    "    while found:\n",
    "        try:\n",
    "            #need to search iteratively while slicing the list because the index method only returns the first matched index\n",
    "            found_in_grid = grid_numbers.index(bingo_number)\n",
    "            found_index += found_in_grid\n",
    "            found_indexes.append(found_index)\n",
    "            grid_numbers = grid_numbers[found_in_grid+1:]\n",
    "            found_index+=1\n",
    "        except:\n",
    "            found=False\n",
    "            pass\n",
    "    return found_indexes\n",
    "\n",
    "def find_bingo(all_found,grid_size,grid_length,bingo_grids):\n",
    "    found_bingo=False\n",
    "    bingo_type=''\n",
    "    bingo_id = -1\n",
    "    found_grid_id = 0\n",
    "    marked_elements=[]\n",
    "\n",
    "    #traversed through the grids looking at just their marked elements\n",
    "    #intersecting the list of all matched indexes with the individual grid indexes\n",
    "    for grid_num,grid_ids in enumerate([list(set(all_found).intersection(bingo_grids[x])) for x in range(n_grids)]):\n",
    "\n",
    "        if len(grid_ids)<5: #if at least five elements are not matched, there can be no bingo\n",
    "            found_bingo=False\n",
    "        else:\n",
    "            grid_ids = [x - grid_num*grid_length for x in grid_ids] #this normalizes the matched ids\n",
    "            \n",
    "            #this list comprehension computes the number of matched elements in each row\n",
    "            row_bingo_nums = [len([x for x in grid_ids if (x < (grid_size*y)) and (x>=(grid_size*(y-1)))]) for y in range(1,grid_size+1)]\n",
    "            for x,num_ids in enumerate(row_bingo_nums):\n",
    "                if num_ids==5:\n",
    "                    found_bingo=True\n",
    "                    found_grid_id = grid_num\n",
    "                    marked_elements = grid_ids\n",
    "                    print('row_found')\n",
    "                    break\n",
    "\n",
    "            #this list comprehension computes the number of matched elements in each column by using the mod function\n",
    "            column_bingo_nums = [len([x for x in [z % grid_size for z in grid_ids] if x == y]) for y in range(grid_size)]\n",
    "            for x,num_ids in enumerate(column_bingo_nums):\n",
    "                if num_ids==5:\n",
    "                    found_bingo=True\n",
    "                    found_grid_id = grid_num\n",
    "                    marked_elements = grid_ids\n",
    "                    print('column found',bingo_id)\n",
    "                    break\n",
    "            if found_bingo:\n",
    "                break\n",
    "\n",
    "    return found_bingo,found_grid_id,marked_elements\n",
    "            \n",
    "            "
   ]
  },
  {
   "cell_type": "code",
   "execution_count": 16,
   "metadata": {},
   "outputs": [
    {
     "name": "stdout",
     "output_type": "stream",
     "text": [
      "row_found\n",
      "found_bingo 28\n"
     ]
    }
   ],
   "source": [
    "#part1\n",
    "\n",
    "all_found=[]\n",
    "for x in bingo_numbers:\n",
    "    found_indexes = find_number_indexes(flat_grid_numbers,int(x))\n",
    "    all_found.extend(found_indexes)\n",
    "    all_found.sort()\n",
    "    \n",
    "    bingo_found,grid_id,found_in_grids = find_bingo(all_found,grid_size,grid_length,bingo_grid_indexes)\n",
    "    if bingo_found:\n",
    "        print('found_bingo',x)\n",
    "        break"
   ]
  },
  {
   "cell_type": "code",
   "execution_count": 17,
   "metadata": {},
   "outputs": [
    {
     "data": {
      "text/plain": [
       "22680"
      ]
     },
     "execution_count": 17,
     "metadata": {},
     "output_type": "execute_result"
    }
   ],
   "source": [
    "bingo_grid = flat_grid_numbers[bingo_grid_indexes[grid_id][0]:][:25]\n",
    "\n",
    "for z in found_in_grids[::-1]:\n",
    "    bingo_grid.pop(z)\n",
    "\n",
    "sum(bingo_grid)*int(x)   "
   ]
  },
  {
   "cell_type": "code",
   "execution_count": 18,
   "metadata": {},
   "outputs": [],
   "source": [
    "#part2 function\n",
    "\n",
    "def find_nonbingo(all_found,grid_size,grid_length,bingo_grids,all_grid_indexes):\n",
    "    found_bingo=False\n",
    "    found_grid_id = 0\n",
    "    last_won=False\n",
    "    marked_elements=[]\n",
    "\n",
    "    #traversed through the grids looking at just their marked elements\n",
    "    #intersecting the list of all matched indexes with the individual grid indexes\n",
    "    for grid_num,grid_ids in enumerate([list(set(all_found).intersection(bingo_grids[x])) for x in range(n_grids)]):\n",
    "\n",
    "        if len(grid_ids)<5: #if at least five elements are not matched, there can be no bingo\n",
    "            found_bingo=False\n",
    "        else:\n",
    "            grid_ids = [x - grid_num*grid_length for x in grid_ids] #this normalizes the matched ids\n",
    "            \n",
    "            #this list comprehension computes the number of matched elements in each row\n",
    "            row_bingo_nums = [len([x for x in grid_ids if (x < (grid_size*y)) and (x>=(grid_size*(y-1)))]) for y in range(1,grid_size+1)]\n",
    "            for x,num_ids in enumerate(row_bingo_nums):\n",
    "                \n",
    "                if num_ids==5:\n",
    "                    found_bingo=True\n",
    "                    found_grid_id = grid_num\n",
    "\n",
    "                    try:\n",
    "                        all_grid_indexes.remove(grid_num)\n",
    "                    except:\n",
    "                        pass\n",
    "\n",
    "                    break\n",
    "\n",
    "            #this list comprehension computes the number of matched elements in each column by using the mod function\n",
    "            column_bingo_nums = [len([x for x in [z % grid_size for z in grid_ids] if x == y]) for y in range(grid_size)]\n",
    "            for x,num_ids in enumerate(column_bingo_nums):\n",
    "                if num_ids==5:\n",
    "                    found_bingo=True\n",
    "                    found_grid_id = grid_num\n",
    "                    \n",
    "                    try:\n",
    "                        all_grid_indexes.remove(grid_num)\n",
    "                    except:\n",
    "                        pass\n",
    "\n",
    "                    break\n",
    "            if len(all_grid_indexes)==0:\n",
    "                last_won = True\n",
    "                marked_elements = grid_ids\n",
    "                break\n",
    "\n",
    "\n",
    "    return found_bingo,found_grid_id,marked_elements,all_grid_indexes,last_won"
   ]
  },
  {
   "cell_type": "code",
   "execution_count": 19,
   "metadata": {},
   "outputs": [],
   "source": [
    "#part2\n",
    "\n",
    "all_grid_indexes = list(range(n_grids))\n",
    "\n",
    "all_found=[]\n",
    "for x in bingo_numbers:\n",
    "    found_indexes = find_number_indexes(flat_grid_numbers,int(x))\n",
    "    all_found.extend(found_indexes)\n",
    "    all_found.sort()\n",
    "    \n",
    "    bingo_found,grid_id,found_in_grids,all_grid_indexes,last_won = find_nonbingo(all_found,grid_size,grid_length,bingo_grid_indexes,all_grid_indexes)\n",
    "    if len(all_grid_indexes)==1:\n",
    "        last_grid = all_grid_indexes[0]\n",
    "        \n",
    "    if last_won:\n",
    "        break"
   ]
  },
  {
   "cell_type": "code",
   "execution_count": 20,
   "metadata": {},
   "outputs": [
    {
     "data": {
      "text/plain": [
       "16168"
      ]
     },
     "execution_count": 20,
     "metadata": {},
     "output_type": "execute_result"
    }
   ],
   "source": [
    "bingo_grid = flat_grid_numbers[bingo_grid_indexes[last_grid][0]:][:25]\n",
    "for z in found_in_grids[::-1]:\n",
    "    bingo_grid.pop(z)\n",
    "\n",
    "sum(bingo_grid)*int(x)  "
   ]
  },
  {
   "cell_type": "code",
   "execution_count": null,
   "metadata": {},
   "outputs": [],
   "source": []
  }
 ],
 "metadata": {
  "kernelspec": {
   "display_name": "Python 3",
   "language": "python",
   "name": "python3"
  },
  "language_info": {
   "codemirror_mode": {
    "name": "ipython",
    "version": 3
   },
   "file_extension": ".py",
   "mimetype": "text/x-python",
   "name": "python",
   "nbconvert_exporter": "python",
   "pygments_lexer": "ipython3",
   "version": "3.7.4"
  }
 },
 "nbformat": 4,
 "nbformat_minor": 2
}
