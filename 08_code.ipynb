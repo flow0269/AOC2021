{
 "cells": [
  {
   "cell_type": "code",
   "execution_count": 65,
   "metadata": {},
   "outputs": [],
   "source": [
    "from aocd.models import Puzzle\n",
    "puzzle = Puzzle(2021, 8)"
   ]
  },
  {
   "cell_type": "code",
   "execution_count": 66,
   "metadata": {},
   "outputs": [],
   "source": [
    "input_ = puzzle.input_data.splitlines()"
   ]
  },
  {
   "cell_type": "code",
   "execution_count": 67,
   "metadata": {},
   "outputs": [
    {
     "name": "stdout",
     "output_type": "stream",
     "text": [
      "303\n"
     ]
    }
   ],
   "source": [
    "#part1\n",
    "\n",
    "from collections import Counter\n",
    "flat_outputs = [len(z) for y in [x.split(' | ')[1].split(' ') for x in input_] for z in y]\n",
    "output_len_counts = Counter(flat_outputs)\n",
    "\n",
    "print(output_len_counts[2]+output_len_counts[4]+output_len_counts[3]+output_len_counts[7])"
   ]
  },
  {
   "cell_type": "code",
   "execution_count": 68,
   "metadata": {},
   "outputs": [],
   "source": [
    "input_vals = [x.split(' | ')[0] for x in input_]\n",
    "output_vals = [x.split(' | ')[1] for x in input_]"
   ]
  },
  {
   "cell_type": "code",
   "execution_count": 69,
   "metadata": {},
   "outputs": [],
   "source": [
    "#functions to allow scrambling of characters\n",
    "def equals_(x,y):\n",
    "    if (len(set(x).intersection(y))==len(x)) & (len(x) == len(y)):\n",
    "        return True\n",
    "    else:\n",
    "        return False\n",
    "def contains_(x,y):\n",
    "    for char_ in y:\n",
    "        if char_ not in x:\n",
    "            return False \n",
    "    return True\n",
    "\n",
    "\n",
    "def find_chars(display_):\n",
    "    kernel=[]\n",
    "    input_dict = dict()\n",
    "    for x_ in display_:\n",
    "        if len(x_)==3:\n",
    "            input_dict[7]=x_\n",
    "        elif len(x_)==2:\n",
    "            input_dict[1]=x_\n",
    "        elif len(x_)==4:\n",
    "            input_dict[4]=x_\n",
    "            \n",
    "    kernel_2_5=list(set(input_dict[1]).intersection(input_dict[7])) #gets the 2,5 kernel\n",
    "    kernel_1_3=[x for x in input_dict[4] if (x!=kernel_2_5[0]) & (x!=kernel_2_5[1])] #gets the 1,3 kernel\n",
    "    \n",
    "    input_dict[5] = [y for y in [x for x in display_ if len(x)==5] if contains_(y,kernel_1_3)][0]\n",
    "    \n",
    "    input_dict[3] = [y for y in [x for x in display_ if len(x)==5] if contains_(y,kernel_2_5)][0]\n",
    "    input_dict[2] = [y for y in [x for x in display_ if len(x)==5] if (y!= input_dict[5]) & (y != input_dict[3])][0]\n",
    "    \n",
    "    input_dict[9] = [y for y in [x for x in display_ if len(x)==6] if contains_(y,input_dict[4])][0]\n",
    "    input_dict[6] = [y for y in [x for x in display_ if len(x)==6] if (contains_(y,input_dict[5])) & (y != input_dict[9])][0]\n",
    "    input_dict[0] = [y for y in [x for x in display_ if len(x)==6] if (y!= input_dict[6]) & (y != input_dict[9])][0]\n",
    "    \n",
    "    input_dict[8] = [x for x in display_ if len(x)==7][0]\n",
    "    \n",
    "    return input_dict\n",
    "\n",
    "def decode_output(input_dict,output_):\n",
    "    output_nums = [[str(x) for x,y in input_dict.items() if equals_(y,z)][0] for z in output_]\n",
    "    return int(''.join(output_nums))"
   ]
  },
  {
   "cell_type": "code",
   "execution_count": 70,
   "metadata": {
    "scrolled": true
   },
   "outputs": [],
   "source": [
    "output = 0\n",
    "z = 0\n",
    "for x,y in zip(input_vals,output_vals):\n",
    "    z+=1\n",
    "    input_dict = find_chars(x.split(' '))\n",
    "    output += decode_output(input_dict,y.split(' '))"
   ]
  },
  {
   "cell_type": "code",
   "execution_count": 71,
   "metadata": {},
   "outputs": [
    {
     "name": "stdout",
     "output_type": "stream",
     "text": [
      "961734\n"
     ]
    }
   ],
   "source": [
    "print(output)"
   ]
  },
  {
   "cell_type": "code",
   "execution_count": null,
   "metadata": {},
   "outputs": [],
   "source": []
  }
 ],
 "metadata": {
  "kernelspec": {
   "display_name": "Python 3",
   "language": "python",
   "name": "python3"
  },
  "language_info": {
   "codemirror_mode": {
    "name": "ipython",
    "version": 3
   },
   "file_extension": ".py",
   "mimetype": "text/x-python",
   "name": "python",
   "nbconvert_exporter": "python",
   "pygments_lexer": "ipython3",
   "version": "3.7.4"
  }
 },
 "nbformat": 4,
 "nbformat_minor": 2
}
